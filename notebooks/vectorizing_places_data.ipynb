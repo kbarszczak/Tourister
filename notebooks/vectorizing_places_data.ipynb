{
 "cells": [
  {
   "cell_type": "code",
   "execution_count": 1,
   "id": "4edcba25",
   "metadata": {},
   "outputs": [],
   "source": [
    "import pickle\n",
    "import time\n",
    "import keras\n",
    "import time\n",
    "\n",
    "from keras_preprocessing.sequence import pad_sequences\n",
    "from keras_preprocessing import sequence\n",
    "from keras.preprocessing import text"
   ]
  },
  {
   "cell_type": "markdown",
   "id": "d73f99ae",
   "metadata": {},
   "source": [
    "Parameters"
   ]
  },
  {
   "cell_type": "code",
   "execution_count": 2,
   "id": "2f8b8c2d",
   "metadata": {},
   "outputs": [],
   "source": [
    "model_path = '../models/tc_model_1_1680891414_tt_1680888903.h5'\n",
    "tokenizer_path = '../models/tokenizer_1680888903.pickle'\n",
    "detailed_data_path = '../data/places_krakow_detailed_1680895219.pickle'\n",
    "city_name = 'krakow'\n",
    "creation_time = int(time.time())"
   ]
  },
  {
   "cell_type": "markdown",
   "id": "a06551c8",
   "metadata": {},
   "source": [
    "The method loads neural network model, tokenizer and the detailed places data"
   ]
  },
  {
   "cell_type": "markdown",
   "id": "6d8b1a1f",
   "metadata": {},
   "source": [
    "### Add the vector column to detailed data"
   ]
  },
  {
   "cell_type": "code",
   "execution_count": 3,
   "id": "90f8e1b2",
   "metadata": {},
   "outputs": [],
   "source": [
    "def load(model_path, tokenizer_path, detailed_data_path):\n",
    "    with open(tokenizer_path, 'rb') as file:\n",
    "        tokenizer = pickle.load(file)\n",
    "    with open(detailed_data_path, 'rb') as file:\n",
    "        data = pickle.load(file)\n",
    "    model = keras.models.load_model(model_path)\n",
    "    \n",
    "    return model, tokenizer, data"
   ]
  },
  {
   "cell_type": "markdown",
   "id": "9c33e6a2",
   "metadata": {},
   "source": [
    "The method is responsible for describing each place (the default method concatenates its types, summary and reviews)"
   ]
  },
  {
   "cell_type": "code",
   "execution_count": 4,
   "id": "546b231f",
   "metadata": {},
   "outputs": [],
   "source": [
    "def default_describer(place):\n",
    "    description = ''\n",
    "    for place_type in place[2]:\n",
    "        description += (place_type.replace('_', ' ')) + ' '\n",
    "\n",
    "    if place[8] is not None:\n",
    "        description += place[8] + ' '\n",
    "\n",
    "    for review in place[9]:\n",
    "        description += review.replace('\\n', '').replace('\\\\', '') + ' '\n",
    "\n",
    "    return description.replace('  ', ' ')"
   ]
  },
  {
   "cell_type": "markdown",
   "id": "958a26e4",
   "metadata": {},
   "source": [
    "The method adds additional column that describes places"
   ]
  },
  {
   "cell_type": "code",
   "execution_count": 5,
   "id": "dae584d1",
   "metadata": {},
   "outputs": [],
   "source": [
    "def vectorize_data(data, model, tokenizer, describer=default_describer):\n",
    "    result = []\n",
    "    maxlen = model.layers[0].input_length\n",
    "    for place in data:\n",
    "        description = describer(place)\n",
    "        sequences = tokenizer.texts_to_sequences([description])\n",
    "        x = pad_sequences(sequences, maxlen=maxlen)\n",
    "        vector = model.predict(x, verbose=0)[0]\n",
    "        place.append(vector)\n",
    "        result.append(place)\n",
    "\n",
    "    return result"
   ]
  },
  {
   "cell_type": "markdown",
   "id": "52295cd0",
   "metadata": {},
   "source": [
    "Use created methods to load model, tokenizer and information about places"
   ]
  },
  {
   "cell_type": "code",
   "execution_count": 6,
   "id": "809c4204",
   "metadata": {},
   "outputs": [
    {
     "name": "stdout",
     "output_type": "stream",
     "text": [
      "Metal device set to: Apple M1\n"
     ]
    },
    {
     "name": "stderr",
     "output_type": "stream",
     "text": [
      "2023-04-07 21:58:30.826376: I tensorflow/core/common_runtime/pluggable_device/pluggable_device_factory.cc:305] Could not identify NUMA node of platform GPU ID 0, defaulting to 0. Your kernel may not have been built with NUMA support.\n",
      "2023-04-07 21:58:30.826469: I tensorflow/core/common_runtime/pluggable_device/pluggable_device_factory.cc:271] Created TensorFlow device (/job:localhost/replica:0/task:0/device:GPU:0 with 0 MB memory) -> physical PluggableDevice (device: 0, name: METAL, pci bus id: <undefined>)\n"
     ]
    }
   ],
   "source": [
    "model, tokenizer, data = load(model_path, tokenizer_path, detailed_data_path)"
   ]
  },
  {
   "cell_type": "markdown",
   "id": "967f3c94",
   "metadata": {},
   "source": [
    "Vectorize loaded data"
   ]
  },
  {
   "cell_type": "code",
   "execution_count": 7,
   "id": "ea62e1d8",
   "metadata": {},
   "outputs": [
    {
     "name": "stderr",
     "output_type": "stream",
     "text": [
      "2023-04-07 21:58:31.315471: W tensorflow/core/platform/profile_utils/cpu_utils.cc:128] Failed to get CPU frequency: 0 Hz\n",
      "2023-04-07 21:58:31.539228: I tensorflow/core/grappler/optimizers/custom_graph_optimizer_registry.cc:113] Plugin optimizer for device_type GPU is enabled.\n",
      "2023-04-07 21:58:31.609851: I tensorflow/core/grappler/optimizers/custom_graph_optimizer_registry.cc:113] Plugin optimizer for device_type GPU is enabled.\n",
      "2023-04-07 21:58:34.206199: I tensorflow/core/grappler/optimizers/custom_graph_optimizer_registry.cc:113] Plugin optimizer for device_type GPU is enabled.\n"
     ]
    }
   ],
   "source": [
    "data_vectorized = vectorize_data(data, model, tokenizer)"
   ]
  },
  {
   "cell_type": "markdown",
   "id": "b333be93",
   "metadata": {},
   "source": [
    "Save the vectorized data"
   ]
  },
  {
   "cell_type": "code",
   "execution_count": 8,
   "id": "e1eebe0f",
   "metadata": {},
   "outputs": [],
   "source": [
    "with open(f'../data/places_{city_name}_vectorized_{creation_time}.pickle', 'wb') as file:\n",
    "    pickle.dump(data_vectorized, file, protocol=pickle.HIGHEST_PROTOCOL)"
   ]
  },
  {
   "cell_type": "code",
   "execution_count": null,
   "id": "7e9ffaae",
   "metadata": {},
   "outputs": [],
   "source": []
  }
 ],
 "metadata": {
  "kernelspec": {
   "display_name": "Python 3.10 (tensorflow)",
   "language": "python",
   "name": "tensorflow"
  },
  "language_info": {
   "codemirror_mode": {
    "name": "ipython",
    "version": 3
   },
   "file_extension": ".py",
   "mimetype": "text/x-python",
   "name": "python",
   "nbconvert_exporter": "python",
   "pygments_lexer": "ipython3",
   "version": "3.10.9"
  }
 },
 "nbformat": 4,
 "nbformat_minor": 5
}
