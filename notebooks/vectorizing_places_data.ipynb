{
 "cells": [
  {
   "cell_type": "code",
   "execution_count": null,
   "id": "7b3a58c1",
   "metadata": {},
   "outputs": [],
   "source": [
    "\n",
    "# path to nn model & tokenizer\n",
    "model_path = '../models/tc_model_1_1680891414_tt_1680888903.h5'\n",
    "tokenizer_path = '../models/tokenizer_1680888903.pickle'"
   ]
  },
  {
   "cell_type": "code",
   "execution_count": null,
   "id": "570b8cc5",
   "metadata": {},
   "outputs": [],
   "source": [
    "def load_deta_tokenizer(model_path, tokenizer_path):\n",
    "    with open(tokenizer_path, 'rb') as file:\n",
    "        tokenizer = pickle.load(file)\n",
    "        \n",
    "    model = keras.models.load_model(model_path)\n",
    "    \n",
    "    return model, tokenizer"
   ]
  },
  {
   "cell_type": "code",
   "execution_count": null,
   "id": "d71b2790",
   "metadata": {},
   "outputs": [],
   "source": []
  },
  {
   "cell_type": "code",
   "execution_count": null,
   "id": "939eeb42",
   "metadata": {},
   "outputs": [],
   "source": [
    "The method compresses the data to the list of the following tupples: (id, name, address, lattitude, longtitude, web page, google page, description, interest vector)"
   ]
  },
  {
   "cell_type": "code",
   "execution_count": null,
   "id": "e0b06aef",
   "metadata": {},
   "outputs": [],
   "source": [
    "def vectorize_places(places, model, tokenizer):\n",
    "    places_with_details = []\n",
    "    maxlen = model.layers[0].input_length\n",
    "    \n",
    "    for place in places:\n",
    "        place_id = place[0]\n",
    "        place_name = place[1]\n",
    "        place_types = place[2]\n",
    "        place_lat = place[3]\n",
    "        place_lng = place[4]\n",
    "        place_summary = None\n",
    "        place_reviews = []\n",
    "        place_website = None\n",
    "        place_address = None\n",
    "        place_url = None\n",
    "\n",
    "        response = execute_details_request(place_id)\n",
    "        response_data = response.json()['result']\n",
    "\n",
    "        if 'editorial_summary' in response_data:\n",
    "            place_summary = response_data['editorial_summary']['overview']\n",
    "        if 'reviews' in response_data:\n",
    "            for review in response_data['reviews']:\n",
    "                place_reviews.append(review['text'])\n",
    "        if 'website' in response_data:\n",
    "            place_website = response_data['website']\n",
    "        if 'formatted_address' in response_data:\n",
    "            place_address = response_data['formatted_address']\n",
    "        if 'url' in response_data:\n",
    "            place_url = response_data['url']\n",
    "    \n",
    "        if place_summary is None and len(place_reviews) == 0:\n",
    "            continue\n",
    "            \n",
    "        description = ''\n",
    "        for place_type in place_types:\n",
    "            description += (place_type.replace('_', ' ')) + ' '\n",
    "            \n",
    "        if place_summary is not None:\n",
    "            description += place_summary + ' '\n",
    "            \n",
    "        for review in place_reviews:\n",
    "            description += review.replace('\\n', '').replace('\\\\', '') + ' '\n",
    "        \n",
    "        description = description.replace('  ', ' ')\n",
    "        sequences = tokenizer.texts_to_sequences([description])\n",
    "        x = pad_sequences(sequences, maxlen=maxlen)\n",
    "        place_vector = model.predict(x, verbose=0)[0]\n",
    "        \n",
    "        places_with_details.append((\n",
    "            place_id, place_name, place_types, \n",
    "            place_lat, place_lng, place_address, \n",
    "            place_website, place_url, place_summary,\n",
    "            place_reviews, place_vector\n",
    "        ))\n",
    "    \n",
    "    return places_with_details"
   ]
  },
  {
   "cell_type": "code",
   "execution_count": null,
   "id": "1ccd0b48",
   "metadata": {},
   "outputs": [],
   "source": []
  },
  {
   "cell_type": "code",
   "execution_count": null,
   "id": "d0873b05",
   "metadata": {},
   "outputs": [],
   "source": []
  }
 ],
 "metadata": {
  "kernelspec": {
   "display_name": "Python 3.10 (tensorflow)",
   "language": "python",
   "name": "tensorflow"
  },
  "language_info": {
   "codemirror_mode": {
    "name": "ipython",
    "version": 3
   },
   "file_extension": ".py",
   "mimetype": "text/x-python",
   "name": "python",
   "nbconvert_exporter": "python",
   "pygments_lexer": "ipython3",
   "version": "3.10.9"
  }
 },
 "nbformat": 4,
 "nbformat_minor": 5
}
