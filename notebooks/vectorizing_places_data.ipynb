{
 "cells": [
  {
   "cell_type": "code",
   "execution_count": 1,
   "id": "4edcba25",
   "metadata": {},
   "outputs": [],
   "source": [
    "import pickle\n",
    "import time\n",
    "import keras\n",
    "import time\n",
    "\n",
    "from keras_preprocessing.sequence import pad_sequences\n",
    "from keras_preprocessing import sequence\n",
    "from keras.preprocessing import text"
   ]
  },
  {
   "cell_type": "markdown",
   "id": "d73f99ae",
   "metadata": {},
   "source": [
    "Parameters"
   ]
  },
  {
   "cell_type": "code",
   "execution_count": 2,
   "id": "2f8b8c2d",
   "metadata": {},
   "outputs": [],
   "source": [
    "model_path = '../models/tc_model_1_1681229441_tt_1681228271.h5'\n",
    "tokenizer_path = '../models/tokenizer_1681228271.pickle'\n",
    "detailed_data_path = '../data/places_krakow_detailed_1680895219.pickle'\n",
    "city_name = 'krakow'\n",
    "creation_time = int(time.time())"
   ]
  },
  {
   "cell_type": "markdown",
   "id": "a06551c8",
   "metadata": {},
   "source": [
    "The method loads neural network model, tokenizer and the detailed places data"
   ]
  },
  {
   "cell_type": "markdown",
   "id": "6d8b1a1f",
   "metadata": {},
   "source": [
    "### Add the vector column to detailed data"
   ]
  },
  {
   "cell_type": "code",
   "execution_count": 3,
   "id": "90f8e1b2",
   "metadata": {},
   "outputs": [],
   "source": [
    "def load(model_path, tokenizer_path, detailed_data_path):\n",
    "    with open(tokenizer_path, 'rb') as file:\n",
    "        tokenizer = pickle.load(file)\n",
    "    with open(detailed_data_path, 'rb') as file:\n",
    "        data = pickle.load(file)\n",
    "    model = keras.models.load_model(model_path)\n",
    "    \n",
    "    return model, tokenizer, data"
   ]
  },
  {
   "cell_type": "markdown",
   "id": "9c33e6a2",
   "metadata": {},
   "source": [
    "The methods are responsible for describing each place (the default method concatenates its types, summary and reviews)"
   ]
  },
  {
   "cell_type": "code",
   "execution_count": 4,
   "id": "546b231f",
   "metadata": {},
   "outputs": [],
   "source": [
    "def default_describer(place):\n",
    "    description = ''\n",
    "    for place_type in place[2]:\n",
    "        description += (place_type.replace('_', ' ')) + ' '\n",
    "\n",
    "    if place[8] is not None:\n",
    "        description += place[8] + ' '\n",
    "\n",
    "    for review in place[9]:\n",
    "        description += review.replace('\\n', '').replace('\\\\', '') + ' '\n",
    "\n",
    "    return description.replace('  ', ' ')"
   ]
  },
  {
   "cell_type": "code",
   "execution_count": 5,
   "id": "f6b94b91",
   "metadata": {},
   "outputs": [],
   "source": [
    "def summary_reviews_describer(place):\n",
    "    description = ''\n",
    "    if place[8] is not None:\n",
    "        description += place[8] + ' '\n",
    "\n",
    "    for review in place[9]:\n",
    "        description += review.replace('\\n', '').replace('\\\\', '') + ' '\n",
    "\n",
    "    return description.replace('  ', ' ')"
   ]
  },
  {
   "cell_type": "markdown",
   "id": "958a26e4",
   "metadata": {},
   "source": [
    "The method adds additional column that describes places"
   ]
  },
  {
   "cell_type": "code",
   "execution_count": 6,
   "id": "dae584d1",
   "metadata": {},
   "outputs": [],
   "source": [
    "def vectorize_data(data, model, tokenizer, describer=default_describer, description_length_threshold=400):\n",
    "    result = []\n",
    "    maxlen = model.layers[0].input_length\n",
    "    for place in data:\n",
    "        description = describer(place)\n",
    "        if len(description) >= description_length_threshold:\n",
    "            sequences = tokenizer.texts_to_sequences([description])\n",
    "            x = pad_sequences(sequences, maxlen=maxlen)\n",
    "            vector = model.predict(x, verbose=0)[0]\n",
    "            place.append(vector)\n",
    "            result.append(place)\n",
    "\n",
    "    return result"
   ]
  },
  {
   "cell_type": "markdown",
   "id": "52295cd0",
   "metadata": {},
   "source": [
    "Use created methods to load model, tokenizer and information about places"
   ]
  },
  {
   "cell_type": "code",
   "execution_count": 7,
   "id": "809c4204",
   "metadata": {},
   "outputs": [],
   "source": [
    "model, tokenizer, data = load(model_path, tokenizer_path, detailed_data_path)"
   ]
  },
  {
   "cell_type": "markdown",
   "id": "967f3c94",
   "metadata": {},
   "source": [
    "Vectorize loaded data"
   ]
  },
  {
   "cell_type": "code",
   "execution_count": 8,
   "id": "ea62e1d8",
   "metadata": {},
   "outputs": [],
   "source": [
    "data_vectorized = vectorize_data(data, model, tokenizer, describer=summary_reviews_describer)"
   ]
  },
  {
   "cell_type": "markdown",
   "id": "b333be93",
   "metadata": {},
   "source": [
    "Save the vectorized data"
   ]
  },
  {
   "cell_type": "code",
   "execution_count": 9,
   "id": "e1eebe0f",
   "metadata": {},
   "outputs": [],
   "source": [
    "with open(f'../data/places_{city_name}_vectorized_{creation_time}.pickle', 'wb') as file:\n",
    "    pickle.dump(data_vectorized, file, protocol=pickle.HIGHEST_PROTOCOL)"
   ]
  },
  {
   "cell_type": "code",
   "execution_count": null,
   "id": "481c70df",
   "metadata": {},
   "outputs": [],
   "source": []
  }
 ],
 "metadata": {
  "kernelspec": {
   "display_name": "Python 3.9.15_2 (tensorflow)",
   "language": "python",
   "name": "tensorflow"
  },
  "language_info": {
   "codemirror_mode": {
    "name": "ipython",
    "version": 3
   },
   "file_extension": ".py",
   "mimetype": "text/x-python",
   "name": "python",
   "nbconvert_exporter": "python",
   "pygments_lexer": "ipython3",
   "version": "3.9.15"
  }
 },
 "nbformat": 4,
 "nbformat_minor": 5
}
