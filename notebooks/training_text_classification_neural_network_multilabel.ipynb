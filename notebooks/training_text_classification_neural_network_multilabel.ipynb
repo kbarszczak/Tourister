{
 "cells": [
  {
   "cell_type": "code",
   "execution_count": 1,
   "id": "c743983c",
   "metadata": {},
   "outputs": [],
   "source": [
    "import matplotlib.pyplot as plt\n",
    "import tensorflow as tf\n",
    "import numpy as np\n",
    "import pickle\n",
    "import keras\n",
    "import time\n",
    "import os\n",
    "\n",
    "from keras_preprocessing.sequence import pad_sequences\n",
    "from keras.preprocessing.text import Tokenizer\n",
    "from keras_preprocessing import sequence\n",
    "from keras.preprocessing import text\n",
    "from keras import preprocessing\n",
    "from keras import regularizers\n",
    "from keras import activations\n",
    "from keras import optimizers\n",
    "from keras import callbacks\n",
    "from keras import layers\n",
    "from keras import losses\n",
    "from keras import models\n",
    "\n",
    "from sklearn.metrics import ConfusionMatrixDisplay\n",
    "from sklearn.metrics import confusion_matrix\n",
    "from sklearn.model_selection import train_test_split"
   ]
  },
  {
   "cell_type": "markdown",
   "id": "8a4ccbe3",
   "metadata": {},
   "source": [
    "Parameters"
   ]
  },
  {
   "cell_type": "code",
   "execution_count": 2,
   "id": "21306dea",
   "metadata": {},
   "outputs": [],
   "source": [
    "data_path = '../data/large_nn_data_1680888103.pickle'\n",
    "dictionary_path = '../data/large_dictionary_1680888103.pickle'\n",
    "tokenizer_path = None  # if none the new one is created\n",
    "\n",
    "maxlen=500\n",
    "max_words=20000\n",
    "first_split = 0.9\n",
    "second_split=0.9"
   ]
  },
  {
   "cell_type": "markdown",
   "id": "808f2c7c",
   "metadata": {},
   "source": [
    "General functions"
   ]
  },
  {
   "cell_type": "code",
   "execution_count": 3,
   "id": "d0207456",
   "metadata": {},
   "outputs": [],
   "source": [
    "def plot_history(history):\n",
    "    loss_list = [s for s in history.history.keys() if 'loss' in s and 'val' not in s]\n",
    "    val_loss_list = [s for s in history.history.keys() if 'loss' in s and 'val' in s]\n",
    "    \n",
    "    if len(loss_list) == 0:\n",
    "        print('Loss is missing in history')\n",
    "        return \n",
    "    \n",
    "    epochs = range(1, len(history.history[loss_list[0]]) + 1)\n",
    "    \n",
    "    plt.figure(1)\n",
    "    for l in loss_list:\n",
    "        plt.plot(epochs, history.history[l], 'b', label='Training loss (' + str(str(format(history.history[l][-1],'.5f'))+')'))\n",
    "    for l in val_loss_list:\n",
    "        plt.plot(epochs, history.history[l], 'g', label='Validation loss (' + str(str(format(history.history[l][-1],'.5f'))+')'))\n",
    "    \n",
    "    plt.title('Loss')\n",
    "    plt.xlabel('Epochs')\n",
    "    plt.ylabel('Loss')\n",
    "    plt.legend()\n",
    "    plt.show()"
   ]
  },
  {
   "cell_type": "code",
   "execution_count": 5,
   "id": "a2b5b8a3",
   "metadata": {},
   "outputs": [],
   "source": [
    "def print_evaluation(model, x_test, y_test, batch_size):\n",
    "    loss = model.evaluate(x_test, y_test, batch_size=batch_size, verbose=0)\n",
    "    print(f\"Test loss: {round(loss, 4)}\")    "
   ]
  },
  {
   "cell_type": "code",
   "execution_count": 6,
   "id": "de59abe5",
   "metadata": {},
   "outputs": [],
   "source": [
    "def load_data(data_path, dictionary_path):\n",
    "    with open(data_path, 'rb') as file:\n",
    "        data = pickle.load(file)\n",
    "    \n",
    "    with open(dictionary_path, 'rb') as file:\n",
    "        dictionary = pickle.load(file)\n",
    "        dictionary = {value: key for key, value in dictionary.items()}\n",
    "        \n",
    "    labels_count = len(dictionary)\n",
    "    texts = []\n",
    "    labels = []\n",
    "    for text, category in data:\n",
    "        new_categories = np.zeros(labels_count, dtype='float32')\n",
    "        new_categories[category] = 1.0\n",
    "        texts.append(text)\n",
    "        labels.append(new_categories)\n",
    "        \n",
    "        \n",
    "    return texts, labels, dictionary"
   ]
  },
  {
   "cell_type": "code",
   "execution_count": 7,
   "id": "b425aa6c",
   "metadata": {},
   "outputs": [],
   "source": [
    "def prepare_data(texts, labels, t_path=None, maxlen=None, max_words=10000):\n",
    "    if t_path is None:\n",
    "        tokenizer = Tokenizer(num_words=max_words)\n",
    "        tokenizer.fit_on_texts(texts)\n",
    "    else:\n",
    "        with open(t_path, 'rb') as file:\n",
    "            tokenizer = pickle.load(file)\n",
    "    \n",
    "    sequences = tokenizer.texts_to_sequences(texts)\n",
    "    if maxlen is not None:\n",
    "        data = pad_sequences(sequences, maxlen=maxlen)\n",
    "    else:\n",
    "        data = pad_sequences(sequences)\n",
    "\n",
    "    return data, np.asarray(labels), tokenizer"
   ]
  },
  {
   "cell_type": "code",
   "execution_count": 8,
   "id": "46267364",
   "metadata": {},
   "outputs": [],
   "source": [
    "def split_data(data, labels, first_split=0.8, second_split=0.8):\n",
    "    x_train, x_test, y_train, y_test = train_test_split(data, labels, train_size=first_split)    \n",
    "    x_train, x_valid, y_train, y_valid = train_test_split(x_train, y_train, train_size=second_split)\n",
    "    return x_train, y_train, x_valid, y_valid, x_test, y_test"
   ]
  },
  {
   "cell_type": "markdown",
   "id": "3f85c624",
   "metadata": {},
   "source": [
    "### Load and preprocess dataset"
   ]
  },
  {
   "cell_type": "markdown",
   "id": "8d3e567b",
   "metadata": {},
   "source": [
    "Load preprocessed yelp dataset and dictionary. The dictionary is then inverted"
   ]
  },
  {
   "cell_type": "code",
   "execution_count": 9,
   "id": "90c0c925",
   "metadata": {},
   "outputs": [],
   "source": [
    "texts, labels, dictionary = load_data(data_path, dictionary_path)"
   ]
  },
  {
   "cell_type": "markdown",
   "id": "7f574b6d",
   "metadata": {},
   "source": [
    "Tokenize initially processed dataset"
   ]
  },
  {
   "cell_type": "code",
   "execution_count": 10,
   "id": "621919be",
   "metadata": {},
   "outputs": [],
   "source": [
    "data, labels, tokenizer = prepare_data(texts, labels, tokenizer_path, maxlen=maxlen, max_words=max_words)\n",
    "texts = None"
   ]
  },
  {
   "cell_type": "markdown",
   "id": "374db4f8",
   "metadata": {},
   "source": [
    "Split the data to train, valid and test datasets"
   ]
  },
  {
   "cell_type": "code",
   "execution_count": 11,
   "id": "9c30342d",
   "metadata": {},
   "outputs": [],
   "source": [
    "x_train, y_train, x_valid, y_valid, x_test, y_test = split_data(data, labels, first_split=first_split, second_split=second_split)\n",
    "data = None\n",
    "labels = None"
   ]
  },
  {
   "cell_type": "markdown",
   "id": "c80ebe7f",
   "metadata": {},
   "source": [
    "Save tokenizer"
   ]
  },
  {
   "cell_type": "code",
   "execution_count": 12,
   "id": "8cf26212",
   "metadata": {},
   "outputs": [],
   "source": [
    "if tokenizer_path is None:\n",
    "    tokenizer_time = int(time.time())\n",
    "    with open(f'../models/tokenizer_{tokenizer_time}.pickle', 'wb') as handle:\n",
    "        pickle.dump(tokenizer, handle, protocol=pickle.HIGHEST_PROTOCOL)\n",
    "else:\n",
    "    tokenizer_time = int(tokenizer_path.split('tokenizer_')[-1][0:-7])\n",
    "tokenizer = None"
   ]
  },
  {
   "cell_type": "markdown",
   "id": "a5a81d6e",
   "metadata": {},
   "source": [
    "Print information about the datasets"
   ]
  },
  {
   "cell_type": "code",
   "execution_count": 13,
   "id": "5cbf7ed7",
   "metadata": {},
   "outputs": [
    {
     "name": "stdout",
     "output_type": "stream",
     "text": [
      "Training samples:   92097\n",
      "Testing samples:    28781\n",
      "Validating samples: 23025\n"
     ]
    }
   ],
   "source": [
    "print(f'Training samples:   {x_train.shape[0]}')\n",
    "print(f'Testing samples:    {x_test.shape[0]}')\n",
    "print(f'Validating samples: {x_valid.shape[0]}')"
   ]
  },
  {
   "cell_type": "markdown",
   "id": "5424e38a",
   "metadata": {},
   "source": [
    "### Train multi-label model v1"
   ]
  },
  {
   "cell_type": "code",
   "execution_count": 14,
   "id": "e5eb2fe1",
   "metadata": {},
   "outputs": [],
   "source": [
    "class TransformerBlock(layers.Layer):\n",
    "    def __init__(self, embed_dim, num_heads, ff_dim, ff_act='relu', ff_reg=None, ff_d=0.25, mh_reg=None, mh_d=0.1, norm_eps=1e-6, **kwargs):\n",
    "        # initialize super class\n",
    "        super(TransformerBlock, self).__init__(**kwargs)\n",
    "        \n",
    "        # multi head attention\n",
    "        self.att = layers.MultiHeadAttention(\n",
    "            num_heads=num_heads, \n",
    "            key_dim=embed_dim,\n",
    "            kernel_regularizer=mh_reg,\n",
    "            dropout=mh_d\n",
    "        )\n",
    "        \n",
    "        # feed forward network\n",
    "        self.ffn = keras.Sequential([\n",
    "            layers.Dense(ff_dim, activation=ff_act, kernel_regularizer=ff_reg), \n",
    "            layers.Dense(embed_dim, kernel_regularizer=ff_reg)\n",
    "        ])\n",
    "        \n",
    "        # layer normalizations\n",
    "        self.layernorm1 = layers.LayerNormalization(epsilon=norm_eps)\n",
    "        self.layernorm2 = layers.LayerNormalization(epsilon=norm_eps)\n",
    "        \n",
    "        # dropout layers\n",
    "        self.dropout1 = layers.Dropout(ff_d)\n",
    "        self.dropout2 = layers.Dropout(ff_d)\n",
    "        \n",
    "        # remember for serialization\n",
    "        self.embed_dim = embed_dim\n",
    "        self.num_heads = num_heads\n",
    "        self.ff_dim = ff_dim\n",
    "        self.ff_act=ff_act\n",
    "        self.ff_reg=ff_reg\n",
    "        self.ff_d=ff_d\n",
    "        self.mh_reg=mh_reg\n",
    "        self.mh_d=mh_d\n",
    "        self.norm_eps=norm_eps\n",
    "        \n",
    "    def get_config(self):\n",
    "        config = super().get_config()\n",
    "        config.update({\n",
    "            \"embed_dim\": self.embed_dim,\n",
    "            \"num_heads\": self.num_heads,\n",
    "            \"ff_dim\": self.ff_dim,\n",
    "            \"ff_act\": self.ff_act,\n",
    "            \"ff_reg\": self.ff_reg,\n",
    "            \"ff_d\": self.ff_d,\n",
    "            \"mh_reg\": self.mh_reg,\n",
    "            \"mh_d\": self.mh_d,\n",
    "            \"norm_eps\": self.norm_eps\n",
    "        })\n",
    "        return config\n",
    "\n",
    "    def call(self, inputs, training):\n",
    "        attn_output = self.att(inputs, inputs)\n",
    "        attn_output = self.dropout1(attn_output, training=training)\n",
    "        out1 = self.layernorm1(inputs + attn_output)\n",
    "        ffn_output = self.ffn(out1)\n",
    "        ffn_output = self.dropout2(ffn_output, training=training)\n",
    "        return self.layernorm2(out1 + ffn_output)"
   ]
  },
  {
   "cell_type": "code",
   "execution_count": 15,
   "id": "5bd79a7b",
   "metadata": {},
   "outputs": [],
   "source": [
    "class TokenAndPositionEmbedding(layers.Layer):\n",
    "    def __init__(self, maxlen, vocab_size, embed_dim, embed_reg=None, **kwargs):\n",
    "        super(TokenAndPositionEmbedding, self).__init__(**kwargs)\n",
    "        \n",
    "        # embedding layers\n",
    "        self.token_emb = layers.Embedding(\n",
    "            input_dim=vocab_size,\n",
    "            output_dim=embed_dim,\n",
    "            embeddings_regularizer=embed_reg\n",
    "        )\n",
    "        self.pos_emb = layers.Embedding(\n",
    "            input_dim=maxlen, \n",
    "            output_dim=embed_dim,\n",
    "            embeddings_regularizer=embed_reg\n",
    "        )\n",
    "        \n",
    "        # save for serialization\n",
    "        self.maxlen = maxlen\n",
    "        self.vocab_size = vocab_size\n",
    "        self.embed_dim = embed_dim\n",
    "        self.embed_reg = embed_reg\n",
    "\n",
    "    def call(self, x):\n",
    "        maxlen = tf.shape(x)[-1]\n",
    "        positions = tf.range(start=0, limit=maxlen, delta=1)\n",
    "        positions = self.pos_emb(positions)\n",
    "        x = self.token_emb(x)\n",
    "        return x + positions\n",
    "    \n",
    "    def get_config(self):\n",
    "        config = super().get_config()\n",
    "        config.update({\n",
    "            \"maxlen\": self.maxlen,\n",
    "            \"vocab_size\": self.vocab_size,\n",
    "            \"embed_dim\": self.embed_dim,\n",
    "            \"embed_reg\": self.embed_reg\n",
    "        })\n",
    "        return config"
   ]
  },
  {
   "cell_type": "code",
   "execution_count": 75,
   "id": "6df354ff",
   "metadata": {},
   "outputs": [],
   "source": [
    "model_name = 'tc_ml_model_1'\n",
    "embedding_dim = 32\n",
    "number_heads = 4\n",
    "feed_forward_dim = 32\n",
    "batch_size = 128\n",
    "epochs = 10"
   ]
  },
  {
   "cell_type": "code",
   "execution_count": 76,
   "id": "df7d2ced",
   "metadata": {},
   "outputs": [
    {
     "name": "stdout",
     "output_type": "stream",
     "text": [
      "Model: \"model_21\"\n",
      "_________________________________________________________________\n",
      " Layer (type)                Output Shape              Param #   \n",
      "=================================================================\n",
      " input_25 (InputLayer)       [(None, 500)]             0         \n",
      "                                                                 \n",
      " token_and_position_embeddin  (None, 500, 48)          504000    \n",
      " g_37 (TokenAndPositionEmbed                                     \n",
      " ding)                                                           \n",
      "                                                                 \n",
      " transformer_block_37 (Trans  (None, 500, 48)          42384     \n",
      " formerBlock)                                                    \n",
      "                                                                 \n",
      " global_average_pooling1d_13  (None, 48)               0         \n",
      "  (GlobalAveragePooling1D)                                       \n",
      "                                                                 \n",
      " layer_normalization_99 (Lay  (None, 48)               96        \n",
      " erNormalization)                                                \n",
      "                                                                 \n",
      " dropout_100 (Dropout)       (None, 48)                0         \n",
      "                                                                 \n",
      " dense_107 (Dense)           (None, 37)                1813      \n",
      "                                                                 \n",
      "=================================================================\n",
      "Total params: 548,293\n",
      "Trainable params: 548,293\n",
      "Non-trainable params: 0\n",
      "_________________________________________________________________\n"
     ]
    }
   ],
   "source": [
    "# input layer\n",
    "inputs = layers.Input(shape=(maxlen,))\n",
    "\n",
    "# position encoding & embedding\n",
    "embedding_layer = TokenAndPositionEmbedding(\n",
    "    maxlen = maxlen, \n",
    "    vocab_size = max_words, \n",
    "    embed_dim = embedding_dim, \n",
    "#     embed_reg = regularizers.L1L2(l1=1e-4, l2=1e-4),\n",
    ")\n",
    "x = embedding_layer(inputs)\n",
    "\n",
    "# multi head attention & feed forward\n",
    "transformer_block = TransformerBlock(\n",
    "    embed_dim = embedding_dim, \n",
    "    num_heads = number_heads, \n",
    "    ff_dim = feed_forward_dim, \n",
    "    ff_act = 'relu', \n",
    "#     ff_reg = regularizers.L1L2(l1=1e-5, l2=5e-5), \n",
    "    ff_d = 0.25, \n",
    "#     mh_reg = regularizers.L1L2(l1=1e-5, l2=5e-5), \n",
    "    mh_d = 0.25, \n",
    "    norm_eps = 1e-3\n",
    ")\n",
    "x = transformer_block(x)\n",
    "\n",
    "# # global average pooling & normalization\n",
    "x = layers.GlobalAveragePooling1D()(x)\n",
    "x = layers.LayerNormalization()(x)\n",
    "x = layers.Dropout(0.5)(x)\n",
    "\n",
    "# # hidden dense layer\n",
    "# x = layers.Dense(len(dictionary), activation=layers.PReLU(), kernel_regularizer=regularizers.L1L2(l1=1e-4, l2=1e-4))(x)\n",
    "# x = layers.LayerNormalization()(x)\n",
    "# x = layers.Dropout(0.5)(x)\n",
    "\n",
    "# last layer\n",
    "outputs = layers.Dense(len(dictionary), activation='sigmoid', kernel_regularizer=regularizers.L1L2(l1=1e-4, l2=1e-4))(x)\n",
    "\n",
    "# creating model\n",
    "model = keras.Model(inputs=inputs, outputs=outputs)\n",
    "\n",
    "# compile model\n",
    "model.compile(\n",
    "    loss='mse',\n",
    "    optimizer=optimizers.Nadam(learning_rate=0.001, clipvalue=1.0, clipnorm=1.0),\n",
    ")\n",
    "\n",
    "# print model summary\n",
    "model.summary()"
   ]
  },
  {
   "cell_type": "code",
   "execution_count": 77,
   "id": "ca71be73",
   "metadata": {},
   "outputs": [
    {
     "name": "stdout",
     "output_type": "stream",
     "text": [
      "Epoch 1/10\n",
      "720/720 [==============================] - 297s 409ms/step - loss: 2.1980 - acc: 0.4334 - val_loss: 1.0889 - val_acc: 0.6935\n",
      "Epoch 2/10\n",
      "720/720 [==============================] - 294s 409ms/step - loss: 1.1090 - acc: 0.7031 - val_loss: 0.9941 - val_acc: 0.7188\n",
      "Epoch 3/10\n",
      "720/720 [==============================] - 294s 409ms/step - loss: 0.9597 - acc: 0.7387 - val_loss: 0.9862 - val_acc: 0.7232\n",
      "Epoch 4/10\n",
      "720/720 [==============================] - 295s 409ms/step - loss: 0.8586 - acc: 0.7623 - val_loss: 1.0129 - val_acc: 0.7205\n",
      "Epoch 5/10\n",
      "720/720 [==============================] - 307s 426ms/step - loss: 0.7815 - acc: 0.7806 - val_loss: 1.0451 - val_acc: 0.7163\n",
      "Epoch 6/10\n",
      "720/720 [==============================] - 297s 412ms/step - loss: 0.7094 - acc: 0.7992 - val_loss: 1.0887 - val_acc: 0.7152\n",
      "Epoch 7/10\n",
      "274/720 [==========>...................] - ETA: 2:53 - loss: 0.6422 - acc: 0.8196"
     ]
    },
    {
     "name": "stderr",
     "output_type": "stream",
     "text": [
      "\n",
      "KeyboardInterrupt\n",
      "\n"
     ]
    }
   ],
   "source": [
    "history = model.fit(\n",
    "    x=x_train,\n",
    "    y=y_train,\n",
    "    epochs=epochs,  \n",
    "    batch_size=batch_size,\n",
    "    validation_data=(x_valid, y_valid),\n",
    "    callbacks=[\n",
    "        callbacks.ModelCheckpoint('../models/'+model_name+'_'+str(int(time.time()))+'_tt_'+str(tokenizer_time)+'_{epoch:02d}_{val_acc:.4f}.h5', monitor='val_acc', verbose=0, save_weights_only=False, save_best_only=True, mode='max', initial_value_threshold=0.71)\n",
    "    ]\n",
    ")"
   ]
  },
  {
   "cell_type": "code",
   "execution_count": 22,
   "id": "58b66fc0",
   "metadata": {},
   "outputs": [],
   "source": [
    "model.save(f'../models/{model_name}_{int(time.time())}_tt_{tokenizer_time}.h5')"
   ]
  },
  {
   "cell_type": "markdown",
   "id": "103b76d3",
   "metadata": {},
   "source": [
    "### Visualize model v1 training results"
   ]
  },
  {
   "cell_type": "code",
   "execution_count": 46,
   "id": "c91e05d8",
   "metadata": {},
   "outputs": [
    {
     "data": {
      "image/png": "[encoded data removed]",
      "text/plain": [
       "<Figure size 640x480 with 1 Axes>"
      ]
     },
     "metadata": {},
     "output_type": "display_data"
    },
    {
     "data": {
      "image/png": "[encoded data removed]",
      "text/plain": [
       "<Figure size 640x480 with 1 Axes>"
      ]
     },
     "metadata": {},
     "output_type": "display_data"
    }
   ],
   "source": [
    "plot_history(history)"
   ]
  },
  {
   "cell_type": "code",
   "execution_count": 43,
   "id": "f01f6a56",
   "metadata": {},
   "outputs": [
    {
     "name": "stdout",
     "output_type": "stream",
     "text": [
      "Test loss: 1.2998\n",
      "Test acc: 67.07%\n"
     ]
    }
   ],
   "source": [
    "print_evaluation(model, x_test, y_test, batch_size=batch_size)"
   ]
  },
  {
   "cell_type": "code",
   "execution_count": null,
   "id": "83c7aa48",
   "metadata": {},
   "outputs": [],
   "source": []
  }
 ],
 "metadata": {
  "kernelspec": {
   "display_name": "Python 3.9.15_2 (tensorflow)",
   "language": "python",
   "name": "tensorflow"
  },
  "language_info": {
   "codemirror_mode": {
    "name": "ipython",
    "version": 3
   },
   "file_extension": ".py",
   "mimetype": "text/x-python",
   "name": "python",
   "nbconvert_exporter": "python",
   "pygments_lexer": "ipython3",
   "version": "3.9.15"
  }
 },
 "nbformat": 4,
 "nbformat_minor": 5
}
