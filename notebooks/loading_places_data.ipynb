{
 "cells": [
  {
   "cell_type": "code",
   "execution_count": 16,
   "id": "ae4ea263",
   "metadata": {},
   "outputs": [],
   "source": [
    "import requests\n",
    "import pickle\n",
    "import time\n",
    "import json"
   ]
  },
  {
   "cell_type": "markdown",
   "id": "d459a988",
   "metadata": {},
   "source": [
    "### Set up notebook"
   ]
  },
  {
   "cell_type": "markdown",
   "id": "9f3575d8",
   "metadata": {},
   "source": [
    "Setting the proper parameters to get the best-fitting results from google maps"
   ]
  },
  {
   "cell_type": "code",
   "execution_count": 28,
   "id": "4a91f9ff",
   "metadata": {},
   "outputs": [],
   "source": [
    "# the google maps api key of the app\n",
    "secret_api_key = ''\n",
    "\n",
    "# list that contains types of searched places\n",
    "types = [\n",
    "    'art_gallery', 'atm', 'bar', 'beauty_salon', 'book_store', 'bus_station', \n",
    "    'cafe', 'car_wash', 'casino', 'cemetery', 'church', 'city_hall', \n",
    "    'clothing_store', 'florist', 'gas_station', 'gym', 'jewelry_store', 'zoo',\n",
    "    'university', 'travel_agency', 'store', 'spa', 'restaurant', 'post_office',\n",
    "    'police', 'park', 'night_club', 'museum', 'library',\n",
    "]  \n",
    "\n",
    "# information about the place\n",
    "city_name = 'krakow'\n",
    "ltn = 50.0615868\n",
    "lng = 19.9373393\n",
    "radius = 5000\n",
    "\n",
    "creation_time = int(time.time())"
   ]
  },
  {
   "cell_type": "markdown",
   "id": "dc256de2",
   "metadata": {},
   "source": [
    "### Get places around a specific point"
   ]
  },
  {
   "cell_type": "markdown",
   "id": "32393bfc",
   "metadata": {},
   "source": [
    "The method executes the request to google maps place API and returns the following dict: id -> (name, types, lat, lng)"
   ]
  },
  {
   "cell_type": "code",
   "execution_count": 21,
   "id": "dd483b85",
   "metadata": {},
   "outputs": [],
   "source": [
    "def execute_place_request(parameters):\n",
    "    response = requests.get('https://maps.googleapis.com/maps/api/place/nearbysearch/json', params=parameters)\n",
    "    places = response.json()['results'] \n",
    "    result = {}\n",
    "    for place in places:\n",
    "        place_id = place[\"place_id\"]\n",
    "        if place_id in result:\n",
    "            continue\n",
    "            \n",
    "        name = place[\"name\"]\n",
    "        types = place[\"types\"]\n",
    "        lat = place['geometry']['location'][\"lat\"]\n",
    "        lng = place['geometry']['location'][\"lng\"]\n",
    "        result[place_id] = (name, types, lat, lng)\n",
    "    \n",
    "    return result"
   ]
  },
  {
   "cell_type": "markdown",
   "id": "d27a8c01",
   "metadata": {},
   "source": [
    "The method executes requests for all kinds of places and returns it as a list of [id, name, types, lat, lng]"
   ]
  },
  {
   "cell_type": "code",
   "execution_count": 22,
   "id": "78d5b29c",
   "metadata": {
    "scrolled": true
   },
   "outputs": [],
   "source": [
    "def load_raw_data(parameters, types):\n",
    "    result = {}\n",
    "    for t in types:\n",
    "        parameters['type'] = t\n",
    "        response = execute_place_request(parameters)\n",
    "        for key, value in response.items():\n",
    "            if key not in result:\n",
    "                result[key] = value\n",
    "                \n",
    "    return [[key, value[0], value[1], value[2], value[3]] for key, value in result.items()]"
   ]
  },
  {
   "cell_type": "markdown",
   "id": "3b9f741c",
   "metadata": {},
   "source": [
    "Use created methods to load the data"
   ]
  },
  {
   "cell_type": "code",
   "execution_count": 23,
   "id": "92c664e3",
   "metadata": {},
   "outputs": [],
   "source": [
    "parameters = {\n",
    "    'location': str(ltn) + ',' + str(lng),\n",
    "    'radius': radius,\n",
    "    'language': 'en',\n",
    "    'key': secret_api_key\n",
    "}\n",
    "raw_data = load_raw_data(parameters, types)"
   ]
  },
  {
   "cell_type": "code",
   "execution_count": 26,
   "id": "26c40c29",
   "metadata": {},
   "outputs": [
    {
     "name": "stdout",
     "output_type": "stream",
     "text": [
      "Downloaded information for 462 places\n"
     ]
    }
   ],
   "source": [
    "print(f'Downloaded information for {len(data)} places')"
   ]
  },
  {
   "cell_type": "markdown",
   "id": "31675a15",
   "metadata": {},
   "source": [
    "Save the raw data"
   ]
  },
  {
   "cell_type": "code",
   "execution_count": 30,
   "id": "8e5083ae",
   "metadata": {},
   "outputs": [],
   "source": [
    "with open(f'../data/places_{city_name}_raw_{creation_time}.pickle', 'wb') as file:\n",
    "    pickle.dump(raw_data, file, protocol=pickle.HIGHEST_PROTOCOL)"
   ]
  },
  {
   "cell_type": "markdown",
   "id": "5dd461e4",
   "metadata": {},
   "source": [
    "### Download details for each loaded place"
   ]
  },
  {
   "cell_type": "markdown",
   "id": "336959c9",
   "metadata": {},
   "source": [
    "The method that sends request for place details. It returns the following list: [address, web page, google page, summary, reviews]"
   ]
  },
  {
   "cell_type": "code",
   "execution_count": 34,
   "id": "bf7fb900",
   "metadata": {},
   "outputs": [],
   "source": [
    "def execute_details_request(parameters):\n",
    "    response = requests.get('https://maps.googleapis.com/maps/api/place/details/json', params=parameters)\n",
    "    response_data = response.json()['result']\n",
    "    \n",
    "    place_address = None\n",
    "    place_website = None\n",
    "    place_url = None\n",
    "    place_summary = None\n",
    "    place_reviews = []\n",
    "\n",
    "    if 'editorial_summary' in response_data:\n",
    "        place_summary = response_data['editorial_summary']['overview']\n",
    "    if 'reviews' in response_data:\n",
    "        for review in response_data['reviews']:\n",
    "            place_reviews.append(review['text'])\n",
    "    if 'website' in response_data:\n",
    "        place_website = response_data['website']\n",
    "    if 'formatted_address' in response_data:\n",
    "        place_address = response_data['formatted_address']\n",
    "    if 'url' in response_data:\n",
    "        place_url = response_data['url']\n",
    "    \n",
    "    return [place_address, place_website, place_url, place_summary, place_reviews]"
   ]
  },
  {
   "cell_type": "markdown",
   "id": "2e676040",
   "metadata": {},
   "source": [
    "The method adds details to loaded data and returns the following list: [id, name, types, lat, lng, address, web page, google page, summary, reviews]"
   ]
  },
  {
   "cell_type": "code",
   "execution_count": 35,
   "id": "074c267d",
   "metadata": {},
   "outputs": [],
   "source": [
    "def load_detailed_data(raw_data, parameters):\n",
    "    result = []\n",
    "    for place in raw_data:\n",
    "        parameters['place_id'] = place[0]\n",
    "        response = execute_details_request(parameters)\n",
    "        place.extend(response)\n",
    "        result.append(place)\n",
    "        \n",
    "    return result"
   ]
  },
  {
   "cell_type": "markdown",
   "id": "18975ebc",
   "metadata": {},
   "source": [
    "Use created methods to load data details"
   ]
  },
  {
   "cell_type": "code",
   "execution_count": 36,
   "id": "170826b3",
   "metadata": {},
   "outputs": [],
   "source": [
    "parameters = {\n",
    "    'key': secret_api_key,\n",
    "    'language': 'en',\n",
    "    'fields': 'editorial_summary,reviews,website,formatted_address,url'\n",
    "}\n",
    "detailed_data = load_detailed_data(raw_data, parameters)"
   ]
  },
  {
   "cell_type": "markdown",
   "id": "39305b13",
   "metadata": {},
   "source": [
    "Save the final data"
   ]
  },
  {
   "cell_type": "code",
   "execution_count": 37,
   "id": "37d7a6ed",
   "metadata": {},
   "outputs": [],
   "source": [
    "with open(f'../data/places_{city_name}_detailed_{creation_time}.pickle', 'wb') as file:\n",
    "    pickle.dump(raw_data, file, protocol=pickle.HIGHEST_PROTOCOL)"
   ]
  },
  {
   "cell_type": "code",
   "execution_count": null,
   "id": "b34babc0",
   "metadata": {},
   "outputs": [],
   "source": []
  }
 ],
 "metadata": {
  "kernelspec": {
   "display_name": "Python 3.10 (tensorflow)",
   "language": "python",
   "name": "tensorflow"
  },
  "language_info": {
   "codemirror_mode": {
    "name": "ipython",
    "version": 3
   },
   "file_extension": ".py",
   "mimetype": "text/x-python",
   "name": "python",
   "nbconvert_exporter": "python",
   "pygments_lexer": "ipython3",
   "version": "3.10.9"
  }
 },
 "nbformat": 4,
 "nbformat_minor": 5
}
