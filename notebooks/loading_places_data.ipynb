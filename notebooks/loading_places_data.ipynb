{
 "cells": [
  {
   "cell_type": "code",
   "execution_count": 1,
   "id": "ae4ea263",
   "metadata": {},
   "outputs": [],
   "source": [
    "import requests\n",
    "import pickle\n",
    "import time\n",
    "import json"
   ]
  },
  {
   "cell_type": "markdown",
   "id": "9f3575d8",
   "metadata": {},
   "source": [
    "Setting the proper parameters to get the best-fitting results from google maps"
   ]
  },
  {
   "cell_type": "code",
   "execution_count": 2,
   "id": "4a91f9ff",
   "metadata": {},
   "outputs": [],
   "source": [
    "request_count = 1  # max amount of requests sent to google maps\n",
    "data = {}  # data consists of the following tupples: placed_id -> (name, types, lat, lng)\n",
    "parameters = {\n",
    "    'location': str(50.0615868) + ',' + str(19.9373393),  # krakow old town \n",
    "    'radius': 10000,  # 10 km\n",
    "    'language': 'en',  # the result language\n",
    "    'key': ''  # the google maps api key of the app\n",
    "}"
   ]
  },
  {
   "cell_type": "markdown",
   "id": "32393bfc",
   "metadata": {},
   "source": [
    "The method executes the request to google maps"
   ]
  },
  {
   "cell_type": "code",
   "execution_count": 3,
   "id": "dd483b85",
   "metadata": {},
   "outputs": [],
   "source": [
    "def execute_request(parameters):\n",
    "    return requests.get('https://maps.googleapis.com/maps/api/place/nearbysearch/json', params=parameters)"
   ]
  },
  {
   "cell_type": "markdown",
   "id": "8264959c",
   "metadata": {},
   "source": [
    "The method processes the result by extracting needed data"
   ]
  },
  {
   "cell_type": "code",
   "execution_count": 4,
   "id": "3c9f812d",
   "metadata": {},
   "outputs": [],
   "source": [
    "def extract_data(response):\n",
    "    data = {}\n",
    "    places = response.json()['results']\n",
    "    for place in places:\n",
    "        place_id = place[\"place_id\"]\n",
    "        name = place[\"name\"]\n",
    "        types = place[\"types\"]\n",
    "        lat = place['geometry']['location'][\"lat\"]\n",
    "        lng = place['geometry']['location'][\"lng\"]\n",
    "        data[place_id] = (name, types, lat, lng)\n",
    "    return data"
   ]
  },
  {
   "cell_type": "markdown",
   "id": "d27a8c01",
   "metadata": {},
   "source": [
    "The loop that gathers the data"
   ]
  },
  {
   "cell_type": "code",
   "execution_count": 5,
   "id": "78d5b29c",
   "metadata": {
    "scrolled": true
   },
   "outputs": [
    {
     "name": "stdout",
     "output_type": "stream",
     "text": [
      "Response data len: 20\n",
      "Total data: 20\n"
     ]
    }
   ],
   "source": [
    "for _ in range(request_count):\n",
    "    response = execute_request(parameters)\n",
    "    response_data = extract_data(response)\n",
    "    for key, value in response_data.items():\n",
    "        if key not in data:\n",
    "            data[key] = value\n",
    "    print(\"Response data len:\", len(response_data))\n",
    "\n",
    "print(\"Total data:\", len(data)) "
   ]
  },
  {
   "cell_type": "markdown",
   "id": "3b9f741c",
   "metadata": {},
   "source": [
    "Convert dict to list"
   ]
  },
  {
   "cell_type": "code",
   "execution_count": 6,
   "id": "92c664e3",
   "metadata": {},
   "outputs": [],
   "source": [
    "result = [(key, value[0], value[1], value[2], value[3]) for key, value in data.items()]"
   ]
  },
  {
   "cell_type": "markdown",
   "id": "40ee29b8",
   "metadata": {},
   "source": [
    "Save the result to the pickle file"
   ]
  },
  {
   "cell_type": "code",
   "execution_count": 7,
   "id": "08db3989",
   "metadata": {},
   "outputs": [],
   "source": [
    "with open(f'../data/data_{int(time.time())}.pickle', 'wb') as handle:\n",
    "    pickle.dump(result, handle)"
   ]
  }
 ],
 "metadata": {
  "kernelspec": {
   "display_name": "Python 3.9.15_2 (tensorflow)",
   "language": "python",
   "name": "tensorflow"
  },
  "language_info": {
   "codemirror_mode": {
    "name": "ipython",
    "version": 3
   },
   "file_extension": ".py",
   "mimetype": "text/x-python",
   "name": "python",
   "nbconvert_exporter": "python",
   "pygments_lexer": "ipython3",
   "version": "3.9.15"
  }
 },
 "nbformat": 4,
 "nbformat_minor": 5
}
