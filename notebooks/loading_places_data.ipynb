{
 "cells": [
  {
   "cell_type": "code",
   "execution_count": 1,
   "id": "ae4ea263",
   "metadata": {},
   "outputs": [],
   "source": [
    "import requests\n",
    "import pickle\n",
    "import time\n",
    "import json"
   ]
  },
  {
   "cell_type": "markdown",
   "id": "a5ee7cfc",
   "metadata": {},
   "source": [
    "### Getting ids of places around specified point"
   ]
  },
  {
   "cell_type": "markdown",
   "id": "9f3575d8",
   "metadata": {},
   "source": [
    "Setting the proper parameters to get the best-fitting results from google maps"
   ]
  },
  {
   "cell_type": "code",
   "execution_count": 11,
   "id": "4a91f9ff",
   "metadata": {},
   "outputs": [],
   "source": [
    "secret_api_key = ''  # the google maps api key of the app\n",
    "types = [\n",
    "    'art_gallery', 'atm', 'bar', 'beauty_salon', 'book_store', 'bus_station', \n",
    "    'cafe', 'car_wash', 'casino', 'cemetery', 'church', 'city_hall', \n",
    "    'clothing_store', 'florist', 'gas_station', 'gym', 'jewelry_store', 'zoo',\n",
    "    'university', 'travel_agency', 'store', 'spa', 'restaurant', 'post_office',\n",
    "    'police', 'parking', 'park', 'night_club', 'museum', 'library',\n",
    "]  # list that contains types of searched places\n",
    "data = {}  # data consists of the following tupples: placed_id -> (name, types, lat, lng)\n",
    "parameters = {\n",
    "    'location': str(50.0615868) + ',' + str(19.9373393),  # krakow old town \n",
    "    'radius': 10000,  # 10 km\n",
    "    'language': 'en',  # the result language\n",
    "    'key': secret_api_key\n",
    "}"
   ]
  },
  {
   "cell_type": "markdown",
   "id": "32393bfc",
   "metadata": {},
   "source": [
    "The method executes the request to google maps"
   ]
  },
  {
   "cell_type": "code",
   "execution_count": 3,
   "id": "dd483b85",
   "metadata": {},
   "outputs": [],
   "source": [
    "def execute_request(parameters):\n",
    "    return requests.get('https://maps.googleapis.com/maps/api/place/nearbysearch/json', params=parameters)"
   ]
  },
  {
   "cell_type": "markdown",
   "id": "8264959c",
   "metadata": {},
   "source": [
    "The method processes the result by extracting needed data"
   ]
  },
  {
   "cell_type": "code",
   "execution_count": 4,
   "id": "3c9f812d",
   "metadata": {},
   "outputs": [],
   "source": [
    "def extract_data(response):\n",
    "    data = {}\n",
    "    places = response.json()['results']\n",
    "    for place in places:\n",
    "        place_id = place[\"place_id\"]\n",
    "        name = place[\"name\"]\n",
    "        types = place[\"types\"]\n",
    "        lat = place['geometry']['location'][\"lat\"]\n",
    "        lng = place['geometry']['location'][\"lng\"]\n",
    "        data[place_id] = (name, types, lat, lng)\n",
    "    return data"
   ]
  },
  {
   "cell_type": "markdown",
   "id": "d27a8c01",
   "metadata": {},
   "source": [
    "The loop that gathers the data"
   ]
  },
  {
   "cell_type": "code",
   "execution_count": 5,
   "id": "78d5b29c",
   "metadata": {
    "scrolled": true
   },
   "outputs": [
    {
     "name": "stdout",
     "output_type": "stream",
     "text": [
      "Response data len: 20\n",
      "Response data len: 20\n",
      "Response data len: 20\n",
      "Response data len: 20\n",
      "Response data len: 20\n",
      "Response data len: 11\n",
      "Response data len: 20\n",
      "Response data len: 20\n",
      "Response data len: 5\n",
      "Response data len: 20\n",
      "Response data len: 20\n",
      "Response data len: 5\n",
      "Response data len: 20\n",
      "Response data len: 20\n",
      "Response data len: 0\n",
      "Response data len: 20\n",
      "Response data len: 20\n",
      "Response data len: 2\n",
      "Response data len: 20\n",
      "Response data len: 20\n",
      "Response data len: 20\n",
      "Response data len: 0\n",
      "Response data len: 20\n",
      "Response data len: 20\n",
      "Response data len: 11\n",
      "Response data len: 20\n",
      "Response data len: 20\n",
      "Response data len: 0\n",
      "Response data len: 20\n",
      "Response data len: 20\n",
      "Total data: 449\n"
     ]
    }
   ],
   "source": [
    "for t in types:\n",
    "    parameters['type'] = t\n",
    "    response = execute_request(parameters)\n",
    "    response_data = extract_data(response)\n",
    "    for key, value in response_data.items():\n",
    "        if key not in data:\n",
    "            data[key] = value\n",
    "    print(f\"Response data length for category {t}: {len(response_data)}\")\n",
    "\n",
    "print(\"Total data:\", len(data)) "
   ]
  },
  {
   "cell_type": "markdown",
   "id": "3b9f741c",
   "metadata": {},
   "source": [
    "Convert dict to list"
   ]
  },
  {
   "cell_type": "code",
   "execution_count": 6,
   "id": "92c664e3",
   "metadata": {},
   "outputs": [],
   "source": [
    "result = [(key, value[0], value[1], value[2], value[3]) for key, value in data.items()]"
   ]
  },
  {
   "cell_type": "markdown",
   "id": "40ee29b8",
   "metadata": {},
   "source": [
    "Save the result to the pickle file"
   ]
  },
  {
   "cell_type": "code",
   "execution_count": 7,
   "id": "08db3989",
   "metadata": {},
   "outputs": [],
   "source": [
    "with open(f'../data/data_{int(time.time())}.pickle', 'wb') as handle:\n",
    "    pickle.dump(result, handle)"
   ]
  },
  {
   "cell_type": "markdown",
   "id": "5dd461e4",
   "metadata": {},
   "source": [
    "### Getting details about gathered places"
   ]
  },
  {
   "cell_type": "markdown",
   "id": "336959c9",
   "metadata": {},
   "source": [
    "The method that sends request for place details"
   ]
  },
  {
   "cell_type": "code",
   "execution_count": 25,
   "id": "bf7fb900",
   "metadata": {},
   "outputs": [],
   "source": [
    "def execute_details_request(place_id):\n",
    "    parameters = {\n",
    "        'place_id': place_id,\n",
    "        'key': secret_api_key,\n",
    "        'language': 'en',\n",
    "        'fields': 'editorial_summary,reviews,website,formatted_address,url'\n",
    "    }\n",
    "    return requests.get('https://maps.googleapis.com/maps/api/place/details/json', params=parameters)"
   ]
  },
  {
   "cell_type": "markdown",
   "id": "a27f43ad",
   "metadata": {},
   "source": [
    "Read the detailed data about each found place"
   ]
  },
  {
   "cell_type": "code",
   "execution_count": 44,
   "id": "28197075",
   "metadata": {},
   "outputs": [],
   "source": [
    "full_data = []\n",
    "for r in result:\n",
    "    place_id = r[0]\n",
    "    place_name = r[1]\n",
    "    place_types = r[2]\n",
    "    place_lat = r[3]\n",
    "    place_lng = r[4]\n",
    "    place_summary = None\n",
    "    place_reviews = []\n",
    "    place_website = None\n",
    "    place_address = None\n",
    "    place_url = None\n",
    "    \n",
    "    response = execute_details_request(place_id)\n",
    "    response_data = response.json()['result']\n",
    "    \n",
    "    if 'editorial_summary' in response_data:\n",
    "        place_summary = response_data['editorial_summary']['overview']\n",
    "    if 'reviews' in response_data:\n",
    "        for review in response_data['reviews']:\n",
    "            place_reviews.append(review['text'])\n",
    "    if 'website' in response_data:\n",
    "        place_website = response_data['website']\n",
    "    if 'formatted_address' in response_data:\n",
    "        place_address = response_data['formatted_address']\n",
    "    if 'url' in response_data:\n",
    "        place_url = response_data['url']\n",
    "    \n",
    "    full_data.append((\n",
    "        place_id, place_name, place_types, \n",
    "        place_lat, place_lng, place_address, \n",
    "        place_website, place_url, place_summary,\n",
    "        place_reviews\n",
    "    ))"
   ]
  },
  {
   "cell_type": "markdown",
   "id": "78e17dac",
   "metadata": {},
   "source": [
    "Save loaded data to the pickle file"
   ]
  },
  {
   "cell_type": "code",
   "execution_count": 46,
   "id": "e1b39ea2",
   "metadata": {},
   "outputs": [],
   "source": [
    "with open(f'../data/full_data_{int(time.time())}.pickle', 'wb') as handle:\n",
    "    pickle.dump(full_data, handle)"
   ]
  }
 ],
 "metadata": {
  "kernelspec": {
   "display_name": "Python 3.9.15_2 (tensorflow)",
   "language": "python",
   "name": "tensorflow"
  },
  "language_info": {
   "codemirror_mode": {
    "name": "ipython",
    "version": 3
   },
   "file_extension": ".py",
   "mimetype": "text/x-python",
   "name": "python",
   "nbconvert_exporter": "python",
   "pygments_lexer": "ipython3",
   "version": "3.9.15"
  }
 },
 "nbformat": 4,
 "nbformat_minor": 5
}
